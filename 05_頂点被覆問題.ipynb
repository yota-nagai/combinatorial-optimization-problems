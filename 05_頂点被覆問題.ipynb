{
  "nbformat": 4,
  "nbformat_minor": 0,
  "metadata": {
    "colab": {
      "provenance": [],
      "authorship_tag": "ABX9TyN6lDPKvsIZAxmBM16iA/uG",
      "include_colab_link": true
    },
    "kernelspec": {
      "name": "python3",
      "display_name": "Python 3"
    },
    "language_info": {
      "name": "python"
    }
  },
  "cells": [
    {
      "cell_type": "markdown",
      "metadata": {
        "id": "view-in-github",
        "colab_type": "text"
      },
      "source": [
        "<a href=\"https://colab.research.google.com/github/yota-nagai/combinatorial-optimization-problems/blob/main/05_%E9%A0%82%E7%82%B9%E8%A2%AB%E8%A6%86%E5%95%8F%E9%A1%8C.ipynb\" target=\"_parent\"><img src=\"https://colab.research.google.com/assets/colab-badge.svg\" alt=\"Open In Colab\"/></a>"
      ]
    },
    {
      "cell_type": "code",
      "execution_count": null,
      "metadata": {
        "id": "fP2TEgcUi9HG"
      },
      "outputs": [],
      "source": [
        "! pip install -q amplify\n",
        "from amplify import VariableGenerator, FixstarsClient, solve, Solver\n",
        "from datetime import timedelta\n",
        "\n",
        "client = FixstarsClient()\n",
        "client.token = \"******************\"  #アクセストークンを入力\n",
        "client.parameters.timeout = timedelta(milliseconds=2000)  # タイムアウトは 2000 ms\n",
        "\n",
        "\n",
        "#################### 頂点被覆問題 ####################\n",
        "\n",
        "N,M=map(int,input().split())  #頂点数、辺の数\n",
        "edge=[] #辺のリスト（無向グラフ）\n",
        "for _ in range(M):\n",
        "  u,v=map(int,input().split())\n",
        "  u-=1\n",
        "  v-=1\n",
        "  edge.append([u,v])\n",
        "  # [v,u]を加えてはダメ　全頂点ペアではなく、辺リストを巡回する\n",
        "\n",
        "\n",
        "#バイナリ変数の生成\n",
        "gen=VariableGenerator()\n",
        "q=gen.array(\"Binary\",N)\n",
        "\n",
        "#制約項　全ての辺について、その両端点の少なくとも1つが集合に含まれなければダメ\n",
        "f1=0\n",
        "for i,j in edge:\n",
        "  f1+=(1-q[i])*(1-q[j])\n",
        "\n",
        "#目的関数項　えらぶ頂点数を最小化したい\n",
        "f2=sum(q)\n",
        "\n",
        "#ペナルティ係数を設定\n",
        "A,B=map(int,input().split())\n",
        "f=A*f1+B*f2\n",
        "\n",
        "\n",
        "#ソルバー実行、最適解の取得\n",
        "result=solve(f,client)\n",
        "objective=result.best.objective\n",
        "values=list(result.best.values.values())\n",
        "\n",
        "\n",
        "#エネルギー関数を最小にする選び方を1つ出力\n",
        "print(f\"エネルギー関数の最小値 = {objective}\")\n",
        "chosen=[]\n",
        "for i in range(N):\n",
        "  if values[i]:\n",
        "    chosen.append(i+1)\n",
        "print(chosen)"
      ]
    }
  ]
}