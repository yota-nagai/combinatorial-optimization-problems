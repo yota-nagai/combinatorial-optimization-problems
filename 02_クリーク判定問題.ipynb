{
  "nbformat": 4,
  "nbformat_minor": 0,
  "metadata": {
    "colab": {
      "provenance": [],
      "authorship_tag": "ABX9TyMj1oW+CaHt3lzyxTekD/88",
      "include_colab_link": true
    },
    "kernelspec": {
      "name": "python3",
      "display_name": "Python 3"
    },
    "language_info": {
      "name": "python"
    }
  },
  "cells": [
    {
      "cell_type": "markdown",
      "metadata": {
        "id": "view-in-github",
        "colab_type": "text"
      },
      "source": [
        "<a href=\"https://colab.research.google.com/github/yota-nagai/combinatorial-optimization-problems/blob/main/02_%E3%82%AF%E3%83%AA%E3%83%BC%E3%82%AF%E5%88%A4%E5%AE%9A%E5%95%8F%E9%A1%8C.ipynb\" target=\"_parent\"><img src=\"https://colab.research.google.com/assets/colab-badge.svg\" alt=\"Open In Colab\"/></a>"
      ]
    },
    {
      "cell_type": "code",
      "execution_count": null,
      "metadata": {
        "id": "Egh7jcE2iEI2"
      },
      "outputs": [],
      "source": [
        "! pip install -q amplify\n",
        "from amplify import VariableGenerator, FixstarsClient, solve, Solver\n",
        "from datetime import timedelta\n",
        "\n",
        "client = FixstarsClient()\n",
        "client.token = \"******************\"  #アクセストークンを入力\n",
        "client.parameters.timeout = timedelta(milliseconds=2000)  # タイムアウトは 2000 ms\n",
        "\n",
        "\n",
        "#################### クリーク判定問題 ####################\n",
        "\n",
        "K=int(input())  #探したいクリークの大きさ\n",
        "N,M=map(int,input().split())  #与えられるグラフの頂点数と辺の数\n",
        "#辺のリストを作成（無向グラフ）\n",
        "edge=[]\n",
        "for _ in range(M):\n",
        "  u,v=map(int,input().split())  #多重辺、自己ループはなし\n",
        "  u-=1\n",
        "  v-=1\n",
        "  edge.append([u,v])\n",
        "  #[v,u]を加えてはダメ　全頂点ペアではなく、辺リストを巡回する\n",
        "\n",
        "# バイナリ変数の生成\n",
        "gen=VariableGenerator()\n",
        "q=gen.array(\"Binary\",N)\n",
        "\n",
        "#制約項① 頂点数がK\n",
        "f1=(sum(q)-K)**2\n",
        "\n",
        "#制約項② 頂点間の辺の存在\n",
        "f2=0\n",
        "for u,v in edge:\n",
        "  f2+=q[u]*q[v]\n",
        "f2=(K*(K-1)//2-f2)**2\n",
        "\n",
        "#ペナルティ係数を設定\n",
        "A,B=map(int,input().split())\n",
        "f=A*f1+B*f2\n",
        "\n",
        "\n",
        "#ソルバー実行、最適解の取得\n",
        "result=solve(f, client)\n",
        "objective=result.best.objective\n",
        "values=list(result.best.values.values())\n",
        "\n",
        "if objective==0:\n",
        "  vertex=[]\n",
        "  for i in range(N):\n",
        "    if values[i]==1:\n",
        "      vertex.append(i+1)\n",
        "  print(f\"頂点集合 {vertex} は大きさ{K}のクリークをなす\")\n",
        "else:\n",
        "  print(\"大きさ{K}のクリークは存在しない\")"
      ]
    }
  ]
}