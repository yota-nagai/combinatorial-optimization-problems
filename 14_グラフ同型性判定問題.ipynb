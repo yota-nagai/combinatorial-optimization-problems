{
  "nbformat": 4,
  "nbformat_minor": 0,
  "metadata": {
    "colab": {
      "provenance": [],
      "authorship_tag": "ABX9TyNw/pEGWNN+MpuhdPWJVYqC",
      "include_colab_link": true
    },
    "kernelspec": {
      "name": "python3",
      "display_name": "Python 3"
    },
    "language_info": {
      "name": "python"
    }
  },
  "cells": [
    {
      "cell_type": "markdown",
      "metadata": {
        "id": "view-in-github",
        "colab_type": "text"
      },
      "source": [
        "<a href=\"https://colab.research.google.com/github/yota-nagai/combinatorial-optimization-problems/blob/main/14_%E3%82%B0%E3%83%A9%E3%83%95%E5%90%8C%E5%9E%8B%E6%80%A7%E5%88%A4%E5%AE%9A%E5%95%8F%E9%A1%8C.ipynb\" target=\"_parent\"><img src=\"https://colab.research.google.com/assets/colab-badge.svg\" alt=\"Open In Colab\"/></a>"
      ]
    },
    {
      "cell_type": "code",
      "execution_count": null,
      "metadata": {
        "id": "CYu0pcOGkd2j"
      },
      "outputs": [],
      "source": [
        "! pip install -q amplify\n",
        "from amplify import VariableGenerator, FixstarsClient, solve, Solver\n",
        "from datetime import timedelta\n",
        "\n",
        "client = FixstarsClient()\n",
        "client.token = \"******************\"  #アクセストークンを入力\n",
        "client.parameters.timeout = timedelta(milliseconds=2000)  # タイムアウトは 2000 ms\n",
        "\n",
        "\n",
        "#################### グラフ同型性判定問題 ####################\n",
        "\n",
        "N1,M1=map(int,input().split())  #グラフG1の頂点数、辺の数\n",
        "edge1=set()  #グラフG1の辺集合（無向グラフ）\n",
        "for _ in range(M1):\n",
        "  u1,v1=map(int,input().split())\n",
        "  u1-=1\n",
        "  v1-=1\n",
        "  edge1.add((u1,v1))\n",
        "  edge1.add((v1,u1))  #辺リストの巡回ではなく、全頂点ペアの総当たりをしていく\n",
        "\n",
        "N2,M2=map(int,input().split())  #グラフG2の頂点数、辺の数  N1=N2が前提\n",
        "edge2=set()  #グラフG2の辺集合（無向グラフ）\n",
        "for _ in range(M1):\n",
        "  u2,v2=map(int,input().split())\n",
        "  u2-=1\n",
        "  v2-=1\n",
        "  edge2.add((u2,v2))\n",
        "  edge2.add((v2,u2))  #辺リストの巡回ではなく、全頂点ペアの総当たりをしていく\n",
        "\n",
        "#バイナリ変数の設定\n",
        "gen=VariableGenerator()\n",
        "x_vi=gen.array(\"Binary\",shape=(N,N))  #G2内の頂点vがG1内の頂点iに対応するかどうか\n",
        "\n",
        "#制約項①　G1の頂点とG2の頂点が、もれや重複なく1対1対応\n",
        "f1=0\n",
        "for i in range(N1):\n",
        "  cnt=0\n",
        "  for v in range(N2):\n",
        "    cnt+=x_vi[v][i]\n",
        "  f1+=(1-cnt)**2\n",
        "for v in range(N2):\n",
        "  cnt=0\n",
        "  for i in range(N1):\n",
        "    cnt+=x_vi[v][i]\n",
        "  f1+=(1-cnt)**2\n",
        "\n",
        "#制約項②　G1とG2で、隣接状況が一致\n",
        "f2=0\n",
        "for i in range(N1):\n",
        "  for j in range(N1):\n",
        "    if (i,j) in edge1:\n",
        "      for u in range(N2):\n",
        "        for v in  range(N2):\n",
        "          if (u,v) not in edge2:\n",
        "            f2+=x_vi[u][i]*x_vi[v][j]\n",
        "    else:\n",
        "      for u in range(N2):\n",
        "        for v in range(N2):\n",
        "          if (u,v) in edge:\n",
        "            f2+=x_vi[u][i]*x_vi[v][j]\n",
        "\n",
        "#ペナルティ係数の設定\n",
        "A,B=map(int,input().split())\n",
        "f=A*f1+B*f2\n",
        "\n",
        "\n",
        "#ソルバー実行、最適解の取得\n",
        "result=solve(f,client)\n",
        "objective=result.best.objective\n",
        "values=result.best.values\n",
        "\n",
        "\n",
        "if objective>0:\n",
        "  print(\"G1とG2は同型でない\")\n",
        "else:\n",
        "  print(\"G1とG2は同型\")\n",
        "  x_vi_values=x_vi.evaluate(values)\n",
        "  for v in range(N2):\n",
        "    for i in range(N1):\n",
        "      if x_vi_values[v][i]==1:\n",
        "        print(f\"G1の頂点{i+1}とG2の頂点{v+1}が対応\")"
      ]
    }
  ]
}