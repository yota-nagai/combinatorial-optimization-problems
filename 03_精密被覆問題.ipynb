{
  "nbformat": 4,
  "nbformat_minor": 0,
  "metadata": {
    "colab": {
      "provenance": [],
      "authorship_tag": "ABX9TyNGmFgfMSsZj0AR2B67nJVx",
      "include_colab_link": true
    },
    "kernelspec": {
      "name": "python3",
      "display_name": "Python 3"
    },
    "language_info": {
      "name": "python"
    }
  },
  "cells": [
    {
      "cell_type": "markdown",
      "metadata": {
        "id": "view-in-github",
        "colab_type": "text"
      },
      "source": [
        "<a href=\"https://colab.research.google.com/github/yota-nagai/combinatorial-optimization-problems/blob/main/03_%E7%B2%BE%E5%AF%86%E8%A2%AB%E8%A6%86%E5%95%8F%E9%A1%8C.ipynb\" target=\"_parent\"><img src=\"https://colab.research.google.com/assets/colab-badge.svg\" alt=\"Open In Colab\"/></a>"
      ]
    },
    {
      "cell_type": "code",
      "execution_count": null,
      "metadata": {
        "id": "qrQ8tYqPidyB"
      },
      "outputs": [],
      "source": [
        "! pip install -q amplify\n",
        "from amplify import VariableGenerator, FixstarsClient, solve, Solver\n",
        "from datetime import timedelta\n",
        "\n",
        "client = FixstarsClient()\n",
        "client.token = \"******************\"  #アクセストークンを入力\n",
        "client.parameters.timeout = timedelta(milliseconds=2000)  # タイムアウトは 2000 ms\n",
        "\n",
        "\n",
        "#################### 精密被覆問題 ####################\n",
        "\n",
        "#n点集合U={1,2,...,n}とそのN個の部分集合を入力\n",
        "n=int(input())\n",
        "U=list(map(int,input().split()))\n",
        "N=int(input())\n",
        "V=[]\n",
        "for _ in range(N):\n",
        "  v=set(map(int,input().split()))\n",
        "  V.append(v)\n",
        "\n",
        "# バイナリ変数の生成\n",
        "gen=VariableGenerator()\n",
        "q=gen.array(\"Binary\",N)\n",
        "\n",
        "#制約項　各数字は1つの部分集合からとる\n",
        "f1=0\n",
        "for i in range(1,n+1):\n",
        "  cnt=0\n",
        "  for j in range(N):\n",
        "    if i in V[j]:\n",
        "      cnt+=q[j]\n",
        "  f1+=(1-cnt)**2\n",
        "\n",
        "#目的関数項　選ぶ部分集合の数を最小化\n",
        "f2=sum(q)\n",
        "\n",
        "#ペナルティ係数を設定\n",
        "A,B=map(int,input().split())\n",
        "f=A*f1+B*f2\n",
        "\n",
        "\n",
        "#ソルバー実行、最適解の取得\n",
        "result=solve(f,client)\n",
        "objective=result.best.objective\n",
        "values=list(result.best.values.values())\n",
        "\n",
        "\n",
        "#エネルギー関数を最小にする選び方を1つ出力\n",
        "print(f\"エネルギー関数の最小値 = {objective}\")\n",
        "chosen=[]\n",
        "for i in range(N):\n",
        "  if values[i]==1:\n",
        "    chosen.append(sorted(V[i]))\n",
        "print(*chosen)"
      ]
    }
  ]
}