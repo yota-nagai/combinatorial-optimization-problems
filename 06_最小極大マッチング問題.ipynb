{
  "nbformat": 4,
  "nbformat_minor": 0,
  "metadata": {
    "colab": {
      "provenance": [],
      "authorship_tag": "ABX9TyPbYyP+QMIiGcAEHiuGCFlM",
      "include_colab_link": true
    },
    "kernelspec": {
      "name": "python3",
      "display_name": "Python 3"
    },
    "language_info": {
      "name": "python"
    }
  },
  "cells": [
    {
      "cell_type": "markdown",
      "metadata": {
        "id": "view-in-github",
        "colab_type": "text"
      },
      "source": [
        "<a href=\"https://colab.research.google.com/github/yota-nagai/combinatorial-optimization-problems/blob/main/06_%E6%9C%80%E5%B0%8F%E6%A5%B5%E5%A4%A7%E3%83%9E%E3%83%83%E3%83%81%E3%83%B3%E3%82%B0%E5%95%8F%E9%A1%8C.ipynb\" target=\"_parent\"><img src=\"https://colab.research.google.com/assets/colab-badge.svg\" alt=\"Open In Colab\"/></a>"
      ]
    },
    {
      "cell_type": "code",
      "execution_count": null,
      "metadata": {
        "id": "hagdBZ3yjUWG"
      },
      "outputs": [],
      "source": [
        "! pip install -q amplify\n",
        "from amplify import VariableGenerator, FixstarsClient, solve, Solver\n",
        "from datetime import timedelta\n",
        "\n",
        "client = FixstarsClient()\n",
        "client.token = \"******************\"  #アクセストークンを入力\n",
        "client.parameters.timeout = timedelta(milliseconds=2000)  # タイムアウトは 2000 ms\n",
        "\n",
        "\n",
        "#################### 最小極大マッチング問題 ####################\n",
        "\n",
        "#グラフの情報を入力\n",
        "N,M=map(int,input().split()) #頂点数、辺の数\n",
        "edge=[]  #辺リスト（無向グラフ）\n",
        "for _ in range(M):\n",
        "  u,v=map(int,input().split())\n",
        "  u-=1\n",
        "  v-=1\n",
        "  edge.append([u,v])\n",
        "  # [v,u])を加えてはダメ　全頂点ペアではなく、辺リストを巡回する\n",
        "\n",
        "#変数の生成\n",
        "gen=VariableGenerator()\n",
        "q=gen.array(\"Binary\",M)  #辺iを選ぶかどうか\n",
        "y=[0]*N  #頂点iがいくつの辺によって被覆されるか\n",
        "for i in range(N):\n",
        "  for j in range(M):\n",
        "    u,v=edge[j]\n",
        "    if u==i:\n",
        "      y[i]+=q[j]\n",
        "    elif v==i:\n",
        "      y[i]+=q[j]\n",
        "\n",
        "#制約項①　マッチングになっているか\n",
        "f1=0\n",
        "for i in range(N):\n",
        "  f1+=y[i]*(y[i]-1)\n",
        "\n",
        "#制約項②　極大性について\n",
        "f2=0\n",
        "for u,v in edge:\n",
        "  f2+=(1-y[u])*(1-y[v])\n",
        "\n",
        "#目的関数項　えらぶ辺の数の最小化\n",
        "f3=0\n",
        "f3=sum(q)\n",
        "\n",
        "#ペナルティ係数を設定\n",
        "A,B,C=map(int,input().split())\n",
        "f=A*f1+B*f2+C*f3\n",
        "\n",
        "\n",
        "#ソルバー実行、最適解の取得\n",
        "result=solve(f,client)\n",
        "objective=result.best.objective\n",
        "values=list(result.best.values.values())\n",
        "\n",
        "\n",
        "#エネルギー関数を最小にする辺の選び方を出力\n",
        "print(f\"エネルギー関数の最小値 = {objective}\")\n",
        "chosen=[]\n",
        "for i in range(M):\n",
        "  if values[i]==1:\n",
        "    chosen.append((edge[i][0]+1,edge[i][1]+1))\n",
        "print(chosen)"
      ]
    }
  ]
}