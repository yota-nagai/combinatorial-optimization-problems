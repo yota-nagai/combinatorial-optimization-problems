{
  "nbformat": 4,
  "nbformat_minor": 0,
  "metadata": {
    "colab": {
      "provenance": [],
      "authorship_tag": "ABX9TyMWBcDwyNMjbo8b0XYNKbPP",
      "include_colab_link": true
    },
    "kernelspec": {
      "name": "python3",
      "display_name": "Python 3"
    },
    "language_info": {
      "name": "python"
    }
  },
  "cells": [
    {
      "cell_type": "markdown",
      "metadata": {
        "id": "view-in-github",
        "colab_type": "text"
      },
      "source": [
        "<a href=\"https://colab.research.google.com/github/yota-nagai/combinatorial-optimization-problems/blob/main/08_%E6%95%B4%E6%95%B0%E9%95%B7%E3%82%B8%E3%83%A7%E3%83%96%E3%82%B9%E3%82%B1%E3%82%B8%E3%83%A5%E3%83%BC%E3%83%AA%E3%83%B3%E3%82%B0%E5%95%8F%E9%A1%8C.ipynb\" target=\"_parent\"><img src=\"https://colab.research.google.com/assets/colab-badge.svg\" alt=\"Open In Colab\"/></a>"
      ]
    },
    {
      "cell_type": "code",
      "execution_count": null,
      "metadata": {
        "id": "N0Fijzl8jm6O"
      },
      "outputs": [],
      "source": [
        "! pip install -q amplify\n",
        "from amplify import VariableGenerator, FixstarsClient, solve, Solver\n",
        "from datetime import timedelta\n",
        "\n",
        "client = FixstarsClient()\n",
        "client.token = \"******************\"  #アクセストークンを入力\n",
        "client.parameters.timeout = timedelta(milliseconds=2000)  # タイムアウトは 2000 ms\n",
        "\n",
        "\n",
        "#################### 整数長ジョブスケジューリング問題 ####################\n",
        "\n",
        "\"\"\"\n",
        "うまくいかない\n",
        "f1のペナルティ係数を大きくしてもアサインされてないジョブが出てくる\n",
        "f2がおかしそう\n",
        "各コンピュータの処理時間を全体の平均時間に近づけたい\n",
        "\"\"\"\n",
        "\n",
        "N=int(input())  #ジョブの個数\n",
        "L=list(map(int,input().split()))  #各ジョブの長さ\n",
        "C=int(input())  #コンピュータの数\n",
        "M=sum(L)//C  #各コンピュータにアサインされるジョブ長と最大ジョブ長（コンピュータ0に固定）にどの程度差があるか\n",
        "\n",
        "#バイナリ変数の生成\n",
        "gen=VariableGenerator()\n",
        "q=gen.array(\"Binary\",shape=(N,C))  #ジョブiがコンピュータcにアサインされているか\n",
        "q2=gen.array(\"Binary\",shape=(M+1,C)) # M_1-M_c=nを満たすかどうか\n",
        "\n",
        "#制約項①　各ジョブは1台のコンピュータにアサイン\n",
        "f1=0\n",
        "for i in range(N):\n",
        "  cnt=0\n",
        "  for c in range(C):\n",
        "    cnt+=q[i][c]\n",
        "  f1+=(1-cnt)**2\n",
        "\n",
        "#制約項②　処理時間最大のコンピュータをコンピュータ0に設定\n",
        "f2=0\n",
        "for c in range(C):\n",
        "  cnt=0\n",
        "  for n in range(M+1):\n",
        "    cnt+=n*q2[n][c]\n",
        "  for i in range(N):\n",
        "    cnt+=L[i]*(q[i][c]-q[i][0])\n",
        "  f2+=cnt**2\n",
        "\n",
        "#目的関数項　一番長くかかるコンピュータの処理時間を最小化したい\n",
        "f3=0\n",
        "for i in range(N):\n",
        "  f3+=L[i]*q[i][0]\n",
        "\n",
        "#ペナルティ係数を設定\n",
        "A,B=map(int,input().split())\n",
        "f=A*(f1+f2)+B*f3\n",
        "\n",
        "\n",
        "#ソルバー実行、最適解の取得\n",
        "result=solve(f,client)\n",
        "objective=result.best.objective\n",
        "values=list(result.best.values.values())  # qの値（N*C個）と q2の値（(M+1)*C）が順に並んでる\n",
        "values_q=values[:N+C]\n",
        "values_q2=values[N*C:]\n",
        "\n",
        "#エネルギー関数を最小にするアサイン方法を1つ出力\n",
        "print(f\"エネルギー関数の最小値 = {objective}\")\n",
        "assigned=[0]*C\n",
        "for pos in range(len(values_q)):\n",
        "  if values_q[pos]==1:\n",
        "    assigned[pos%C]+=L[pos//C]\n",
        "\n",
        "print(f\"各コンピュータにアサインされたジョブ長 : {assigned} , ジョブ長最大値 : {max(assigned)}\")"
      ]
    }
  ]
}