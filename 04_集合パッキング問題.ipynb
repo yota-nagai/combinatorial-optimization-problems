{
  "nbformat": 4,
  "nbformat_minor": 0,
  "metadata": {
    "colab": {
      "provenance": [],
      "authorship_tag": "ABX9TyN6+oUauFXMmkAdP7mUOtdV",
      "include_colab_link": true
    },
    "kernelspec": {
      "name": "python3",
      "display_name": "Python 3"
    },
    "language_info": {
      "name": "python"
    }
  },
  "cells": [
    {
      "cell_type": "markdown",
      "metadata": {
        "id": "view-in-github",
        "colab_type": "text"
      },
      "source": [
        "<a href=\"https://colab.research.google.com/github/yota-nagai/combinatorial-optimization-problems/blob/main/04_%E9%9B%86%E5%90%88%E3%83%91%E3%83%83%E3%82%AD%E3%83%B3%E3%82%B0%E5%95%8F%E9%A1%8C.ipynb\" target=\"_parent\"><img src=\"https://colab.research.google.com/assets/colab-badge.svg\" alt=\"Open In Colab\"/></a>"
      ]
    },
    {
      "cell_type": "code",
      "execution_count": null,
      "metadata": {
        "id": "HNOqGDEQizBT"
      },
      "outputs": [],
      "source": [
        "! pip install -q amplify\n",
        "from amplify import VariableGenerator, FixstarsClient, solve, Solver\n",
        "from datetime import timedelta\n",
        "\n",
        "client = FixstarsClient()\n",
        "client.token = \"******************\"  #アクセストークンを入力\n",
        "client.parameters.timeout = timedelta(milliseconds=2000)  # タイムアウトは 2000 ms\n",
        "\n",
        "\n",
        "#################### 集合パッキング問題 ####################\n",
        "\n",
        "#n点集合U={1,2,...,n}とそのN個の部分集合を入力\n",
        "n=int(input())\n",
        "U=list(map(int,input().split()))\n",
        "N=int(input())\n",
        "V=[]\n",
        "for _ in range(N):\n",
        "  v=set(map(int,input().split()))\n",
        "  V.append(v)\n",
        "\n",
        "# バイナリ変数の生成\n",
        "gen=VariableGenerator()\n",
        "q=gen.array(\"Binary\",N)\n",
        "\n",
        "#制約項　共通要素を含む部分集合の組をとってはならない\n",
        "f1=0\n",
        "for i in range(N-1):\n",
        "  for j in range(i+1,N):\n",
        "    if len(set(V[i])&set(V[j])):\n",
        "      f1+=q[i]*q[j]\n",
        "\n",
        "#目的関数項　えらぶ部分集合の数を最大化したい\n",
        "f2=-sum(q)\n",
        "\n",
        "#ペナルティ係数の設定\n",
        "A,B=map(int,input().split())\n",
        "f=A*f1+B*f2\n",
        "\n",
        "\n",
        "#ソルバー実行、最適解の取得\n",
        "result=solve(f,client)\n",
        "objective=result.best.objective\n",
        "values=list(result.best.values.values())\n",
        "\n",
        "\n",
        "#エネルギー関数を最小にする選び方を1つ出力\n",
        "print(f\"エネルギー関数の最小値 = {objective}\")\n",
        "chosen=[]\n",
        "for i in range(N):\n",
        "  if values[i]==1:\n",
        "    chosen.append(sorted(V[i]))\n",
        "print(*chosen)"
      ]
    }
  ]
}