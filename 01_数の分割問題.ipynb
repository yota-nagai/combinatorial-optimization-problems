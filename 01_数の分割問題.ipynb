{
  "nbformat": 4,
  "nbformat_minor": 0,
  "metadata": {
    "colab": {
      "provenance": [],
      "authorship_tag": "ABX9TyMMMjnJ3Z2Iv8zBPE+vzxE4",
      "include_colab_link": true
    },
    "kernelspec": {
      "name": "python3",
      "display_name": "Python 3"
    },
    "language_info": {
      "name": "python"
    }
  },
  "cells": [
    {
      "cell_type": "markdown",
      "metadata": {
        "id": "view-in-github",
        "colab_type": "text"
      },
      "source": [
        "<a href=\"https://colab.research.google.com/github/yota-nagai/combinatorial-optimization-problems/blob/main/01_%E6%95%B0%E3%81%AE%E5%88%86%E5%89%B2%E5%95%8F%E9%A1%8C.ipynb\" target=\"_parent\"><img src=\"https://colab.research.google.com/assets/colab-badge.svg\" alt=\"Open In Colab\"/></a>"
      ]
    },
    {
      "cell_type": "code",
      "execution_count": null,
      "metadata": {
        "id": "KO_XuB87jHnm"
      },
      "outputs": [],
      "source": [
        "! pip install -q amplify\n",
        "from amplify import VariableGenerator, FixstarsClient, solve, Solver\n",
        "from datetime import timedelta\n",
        "\n",
        "client = FixstarsClient()\n",
        "client.token = \"******************\"  #アクセストークンを入力\n",
        "client.parameters.timeout = timedelta(milliseconds=2000)  # タイムアウトは 2000 ms\n",
        "\n",
        "\n",
        "#################### 数の分割問題 ####################\n",
        "\n",
        "A=list(map(int,input().split()))  #分割したい数列\n",
        "n=len(A)\n",
        "\n",
        "# Ising変数を生成\n",
        "gen=VariableGenerator()\n",
        "s=gen.array(\"Ising\",n)\n",
        "\n",
        "#目的関数項 グループ内の数の総和の差を最小化\n",
        "f=0\n",
        "for i in range(n):\n",
        "    f+=s[i]*A[i]\n",
        "f=f** 2\n",
        "\n",
        "\n",
        "#ソルバー実行、最適解の取得\n",
        "result=solve(f,client)\n",
        "objective=result.best.objective\n",
        "values=list(result.best.values.values())\n",
        "\n",
        "group1=[]\n",
        "group2=[]\n",
        "for i in range(n):\n",
        "  if values[i]==1:\n",
        "    group1.append(A[i])\n",
        "  else:\n",
        "    group2.append(A[i])\n",
        "\n",
        "\n",
        "#エネルギー関数が最小となるグループ分割を1つ出力\n",
        "print(f\"エネルギー関数の最小値 = {objective}\")\n",
        "print(f\"{group1} と {group2} に分割\")"
      ]
    }
  ]
}