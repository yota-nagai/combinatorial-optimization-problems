{
  "nbformat": 4,
  "nbformat_minor": 0,
  "metadata": {
    "colab": {
      "provenance": [],
      "authorship_tag": "ABX9TyPepH+tD7xP1oj8os0Rf2ai",
      "include_colab_link": true
    },
    "kernelspec": {
      "name": "python3",
      "display_name": "Python 3"
    },
    "language_info": {
      "name": "python"
    }
  },
  "cells": [
    {
      "cell_type": "markdown",
      "metadata": {
        "id": "view-in-github",
        "colab_type": "text"
      },
      "source": [
        "<a href=\"https://colab.research.google.com/github/yota-nagai/combinatorial-optimization-problems/blob/main/12_%E7%84%A1%E5%90%91%E5%B8%B0%E9%82%84%E9%A0%82%E7%82%B9%E9%9B%86%E5%90%88%E5%95%8F%E9%A1%8C.ipynb\" target=\"_parent\"><img src=\"https://colab.research.google.com/assets/colab-badge.svg\" alt=\"Open In Colab\"/></a>"
      ]
    },
    {
      "cell_type": "code",
      "execution_count": null,
      "metadata": {
        "id": "SIfS_xhOkLo6"
      },
      "outputs": [],
      "source": [
        "! pip install -q amplify\n",
        "from amplify import VariableGenerator, FixstarsClient, solve, Solver\n",
        "from datetime import timedelta\n",
        "\n",
        "client = FixstarsClient()\n",
        "client.token = \"******************\"  #アクセストークンを入力\n",
        "client.parameters.timeout = timedelta(milliseconds=2000)  # タイムアウトは 2000 ms\n",
        "\n",
        "\n",
        "#################### 無向帰還頂点集合問題 ####################\n",
        "\n",
        "\"\"\"\n",
        "どこがおかしいか、分からない！！！！！\n",
        "\"\"\"\n",
        "\n",
        "N,M=map(int,input().split())  #頂点数、辺の数\n",
        "edge=[]  #辺リスト（無向グラフ）\n",
        "for _ in range(M):\n",
        "  u,v=map(int,input().split())\n",
        "  u-=1\n",
        "  v-=1\n",
        "  edge.append([u,v])\n",
        "  edge.append([v,u])\n",
        "\n",
        "#バイナリ変数の生成\n",
        "gen=VariableGenerator()\n",
        "y_v=gen.array(\"Binary\",N)  #頂点vを取り除く（帰還頂点集合に入れる）かどうか\n",
        "x_vi=gen.array(\"Binary\",shape=(N,N))  #頂点vが高さiであるかどうか\n",
        "x_uvi=gen.array(\"Binary\",shape=(N,N,N))  #辺(u,v)が高さiであるかどうか\n",
        "\n",
        "#制約項①　各辺(u,v)について、頂点uと頂点vをともに残した場合に限り辺(u,v)の高さが1つに決定する\n",
        "f1=0\n",
        "for u,v in edge:\n",
        "  cnt=0\n",
        "  for i in range(N):\n",
        "    cnt+=x_uvi[u][v][i]+x_uvi[v][u][i]\n",
        "  f1+=(1-y_v[u])*(1-y_v[v])*(1-cnt)**2\n",
        "\n",
        "#制約項②　頂点vが残されるなら、vについてただ一つの高さが存在\n",
        "f2=0\n",
        "for v in range(N):\n",
        "  cnt=0\n",
        "  for i in range(N):\n",
        "    cnt+=x_vi[v][i]\n",
        "  f2+=(1-y_v[v]-cnt)**2\n",
        "\n",
        "#制約項③　高さi>0である頂点vは、高さiである辺（1つ）につながっている\n",
        "f3=0\n",
        "for v in range(N):\n",
        "  for i in range(1,N):\n",
        "    cnt=0\n",
        "    for uu,vv in edge:\n",
        "      if vv==v:\n",
        "        cnt+=x_uvi[uu][v][i]\n",
        "    f3+=(x_vi[v][i]-cnt)**2\n",
        "\n",
        "#制約項④　辺とその両端点の高さが整合しないとダメ\n",
        "f4=0\n",
        "for u,v in edge:\n",
        "  for i in range(1,N):\n",
        "    #(uの高さがi-1でvの高さがi) or (uの高さがiでvの高さがi-1)のとき1\n",
        "    flag=x_vi[u][i-1]*x_vi[v][i]+x_vi[u][i]*x_vi[v][i-1]\n",
        "    f4+=(1-flag)*x_uvi[u][v][i]\n",
        "\n",
        "#目的関数項　取り除かれる頂点の数を最小化\n",
        "f5=sum(y_v)\n",
        "\n",
        "#ペナルティ係数の設定\n",
        "A,B=map(int,input().split())\n",
        "f=A*(f1+f2+f3+f4)+B*f5\n",
        "\n",
        "\n",
        "#ソルバー実行、最適解の取得\n",
        "result=solve(f,client)\n",
        "objective=result.best.objective\n",
        "values=result.best.values\n",
        "\n",
        "print(objective)"
      ]
    }
  ]
}