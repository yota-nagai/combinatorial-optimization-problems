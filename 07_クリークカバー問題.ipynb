{
  "nbformat": 4,
  "nbformat_minor": 0,
  "metadata": {
    "colab": {
      "provenance": [],
      "authorship_tag": "ABX9TyOYK7GgUkSVVtdIT7FTAm66",
      "include_colab_link": true
    },
    "kernelspec": {
      "name": "python3",
      "display_name": "Python 3"
    },
    "language_info": {
      "name": "python"
    }
  },
  "cells": [
    {
      "cell_type": "markdown",
      "metadata": {
        "id": "view-in-github",
        "colab_type": "text"
      },
      "source": [
        "<a href=\"https://colab.research.google.com/github/yota-nagai/combinatorial-optimization-problems/blob/main/07_%E3%82%AF%E3%83%AA%E3%83%BC%E3%82%AF%E3%82%AB%E3%83%90%E3%83%BC%E5%95%8F%E9%A1%8C.ipynb\" target=\"_parent\"><img src=\"https://colab.research.google.com/assets/colab-badge.svg\" alt=\"Open In Colab\"/></a>"
      ]
    },
    {
      "cell_type": "code",
      "execution_count": null,
      "metadata": {
        "id": "W6IlvJ9SjeEy"
      },
      "outputs": [],
      "source": [
        "! pip install -q amplify\n",
        "from amplify import VariableGenerator, FixstarsClient, solve, Solver\n",
        "from datetime import timedelta\n",
        "\n",
        "client = FixstarsClient()\n",
        "client.token = \"******************\"  #アクセストークンを入力\n",
        "client.parameters.timeout = timedelta(milliseconds=2000)  # タイムアウトは 2000 ms\n",
        "\n",
        "\n",
        "#################### クリークカバー問題 ####################\n",
        "\n",
        "n=int(input()) #与えられる色の個数　※使われない色があってもok\n",
        "N,M=map(int,input().split())  #頂点数、辺の数\n",
        "edge=[]  #辺リスト（無向グラフ）\n",
        "for _ in range(M):\n",
        "  u,v=map(int,input().split())\n",
        "  u-=1\n",
        "  v-=1\n",
        "  edge.append([u,v])\n",
        "  # [v,u]を加えてはダメ　全頂点ペアではなく、辺リストを巡回する\n",
        "\n",
        "#バイナリ変数の生成\n",
        "gen=VariableGenerator()\n",
        "q=gen.array(\"Binary\",shape=(N,n))  #頂点vが色iで塗られているか\n",
        "\n",
        "#制約項①　各頂点の色はただ1つに決定\n",
        "f1=0\n",
        "for v in range(N):\n",
        "  cnt=0\n",
        "  for i in range(n):\n",
        "    cnt+=q[v][i]\n",
        "  f1+=(cnt-1)**2\n",
        "\n",
        "#制約項②　同じ色の頂点グループがクリークをなす\n",
        "f2=0\n",
        "for i in range(n):\n",
        "  num_exist=0\n",
        "  for u,v in edge:\n",
        "    num_exist+=q[u][i]*q[v][i]\n",
        "  cnt=0\n",
        "  for v in range(N):\n",
        "    cnt+=q[v][i]\n",
        "  required=cnt*(cnt-1)/2\n",
        "  f2+=required-num_exist\n",
        "\n",
        "#ペナルティ係数を設定\n",
        "A,B=map(int,input().split())\n",
        "f=A*f1+B*f2\n",
        "\n",
        "\n",
        "#ソルバー実行、最適解の取得\n",
        "result=solve(f,client)\n",
        "objective=result.best.objective\n",
        "values=list(result.best.values.values())\n",
        "#print(values)\n",
        "\n",
        "#エネルギー関数を最小にする塗分け方\n",
        "print(f\"エネルギー関数の最小値 = {objective}\")\n",
        "group=[[] for _ in range(n)]\n",
        "for v in range(N):\n",
        "  for i in range(n):\n",
        "    if values[v*n+i]==True:\n",
        "      group[i].append(v+1)\n",
        "print(*group)\n"
      ]
    }
  ]
}