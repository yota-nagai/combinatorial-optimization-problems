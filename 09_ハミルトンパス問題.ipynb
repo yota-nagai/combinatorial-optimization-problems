{
  "nbformat": 4,
  "nbformat_minor": 0,
  "metadata": {
    "colab": {
      "provenance": [],
      "authorship_tag": "ABX9TyNGfbeAapM+uQugAghUIpQF",
      "include_colab_link": true
    },
    "kernelspec": {
      "name": "python3",
      "display_name": "Python 3"
    },
    "language_info": {
      "name": "python"
    }
  },
  "cells": [
    {
      "cell_type": "markdown",
      "metadata": {
        "id": "view-in-github",
        "colab_type": "text"
      },
      "source": [
        "<a href=\"https://colab.research.google.com/github/yota-nagai/combinatorial-optimization-problems/blob/main/09_%E3%83%8F%E3%83%9F%E3%83%AB%E3%83%88%E3%83%B3%E3%83%91%E3%82%B9%E5%95%8F%E9%A1%8C.ipynb\" target=\"_parent\"><img src=\"https://colab.research.google.com/assets/colab-badge.svg\" alt=\"Open In Colab\"/></a>"
      ]
    },
    {
      "cell_type": "code",
      "execution_count": null,
      "metadata": {
        "id": "6-FQQf8ojwvN"
      },
      "outputs": [],
      "source": [
        "! pip install -q amplify\n",
        "from amplify import VariableGenerator, FixstarsClient, solve, Solver\n",
        "from datetime import timedelta\n",
        "\n",
        "client = FixstarsClient()\n",
        "client.token = \"******************\"  #アクセストークンを入力\n",
        "client.parameters.timeout = timedelta(milliseconds=2000)  # タイムアウトは 2000 ms\n",
        "\n",
        "\n",
        "#################### ハミルトンパス問題 ####################\n",
        "\n",
        "#すべての辺を有向辺として入力  （無向グラフを考える場合は双方向を入力）\n",
        "N,M=map(int,input().split()) #頂点数、辺の数\n",
        "edge=set()  #辺集合\n",
        "for _ in range(M):\n",
        "  u,v=map(int,input().split())\n",
        "  u-=1\n",
        "  v-=1\n",
        "  edge.add((u,v))\n",
        "\n",
        "#バイナリ変数の生成\n",
        "gen=VariableGenerator()\n",
        "q=gen.array(\"Binary\",shape=(N,N))  #頂点vがサイクルのj番目に訪問されるかどうか\n",
        "\n",
        "#制約項①　各頂点は1度だけ訪問\n",
        "f1=0\n",
        "for v in range(N):\n",
        "  cnt=0\n",
        "  for j in range(N):\n",
        "    cnt+=q[v][j]\n",
        "  f1+=(1-cnt)**2\n",
        "\n",
        "#制約項②　1回の移動で訪問するのは1つの頂点のみ\n",
        "f2=0\n",
        "for j in range(N):\n",
        "  cnt=0\n",
        "  for v in range(N):\n",
        "    cnt+=q[v][j]\n",
        "  f2+=(1-cnt)**2\n",
        "\n",
        "#制約項③　サイクルではグラフに存在する辺のみを通れる\n",
        "f3=0\n",
        "for u in range(N):\n",
        "  for v in range(N):\n",
        "    if (u,v) in edge:\n",
        "      continue\n",
        "    for j in range(N-1):\n",
        "        f3+=q[u][j]*q[v][j+1]\n",
        "\n",
        "#ペナルティ係数を設定\n",
        "A=int(input())\n",
        "f=A*(f1+f2+f3)\n",
        "\n",
        "\n",
        "#ソルバー実行、最適解の取得\n",
        "result=solve(f,client)\n",
        "objective=result.best.objective\n",
        "values=list(result.best.values.values())\n",
        "\n",
        "\n",
        "if objective>0:\n",
        "  print(\"ハミルトンサイクルは存在しない\")\n",
        "else:\n",
        "  cycle=[None]*N\n",
        "  for pos in range(N*N):\n",
        "    if values[pos]==1:\n",
        "      cycle[pos%N]=pos//N+1\n",
        "  print(f\"ハミルトンサイクル：{cycle}\")"
      ]
    }
  ]
}