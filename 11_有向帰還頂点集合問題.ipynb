{
  "nbformat": 4,
  "nbformat_minor": 0,
  "metadata": {
    "colab": {
      "provenance": [],
      "authorship_tag": "ABX9TyPXBMXF87HVbO+UBYX9v58v",
      "include_colab_link": true
    },
    "kernelspec": {
      "name": "python3",
      "display_name": "Python 3"
    },
    "language_info": {
      "name": "python"
    }
  },
  "cells": [
    {
      "cell_type": "markdown",
      "metadata": {
        "id": "view-in-github",
        "colab_type": "text"
      },
      "source": [
        "<a href=\"https://colab.research.google.com/github/yota-nagai/combinatorial-optimization-problems/blob/main/11_%E6%9C%89%E5%90%91%E5%B8%B0%E9%82%84%E9%A0%82%E7%82%B9%E9%9B%86%E5%90%88%E5%95%8F%E9%A1%8C.ipynb\" target=\"_parent\"><img src=\"https://colab.research.google.com/assets/colab-badge.svg\" alt=\"Open In Colab\"/></a>"
      ]
    },
    {
      "cell_type": "code",
      "execution_count": null,
      "metadata": {
        "id": "thyjVzwakC6d"
      },
      "outputs": [],
      "source": [
        "! pip install -q amplify\n",
        "from amplify import VariableGenerator, FixstarsClient, solve, Solver\n",
        "from datetime import timedelta\n",
        "\n",
        "client = FixstarsClient()\n",
        "client.token = \"******************\"  #アクセストークンを入力\n",
        "client.parameters.timeout = timedelta(milliseconds=2000)  # タイムアウトは 2000 ms\n",
        "\n",
        "\n",
        "#################### 有向帰還頂点集合問題 ####################\n",
        "\n",
        "N,M=map(int,input().split())  #頂点数、辺の数\n",
        "edge=[]  #辺のリスト（有向グラフ）\n",
        "for _ in range(M):\n",
        "  u,v=map(int,input().split())\n",
        "  u-=1\n",
        "  v-=1\n",
        "  edge.append([u,v])\n",
        "\n",
        "#バイナリ変数の生成\n",
        "gen=VariableGenerator()\n",
        "y_v=gen.array(\"Binary\",N)  #頂点vをそのまま残すか、取り除いて帰還頂点集合に含めるか\n",
        "x_vi=gen.array(\"Binary\",shape=(N,N+1))  #頂点vが高さiあるかどうか（残した頂点集合で）\n",
        "\n",
        "#制約項①　残す各頂点に割り当てられる高さはただ一つ\n",
        "f1=0\n",
        "for v in range(N):\n",
        "  cnt=0\n",
        "  for i in range(1,N+1):\n",
        "    cnt+=x_vi[v][i]\n",
        "  f1+=(y_v[v]-cnt)**2\n",
        "\n",
        "#制約項②　全ての辺が低い方から高い方へ向かわなければダメ（サイクル禁止）\n",
        "f2=0\n",
        "for u,v in edge:\n",
        "  for i in range(N+1):\n",
        "    for j in range(i,N+1):\n",
        "      f2+=x_vi[u][i]*x_vi[v][j]\n",
        "\n",
        "#目的関数項　取り除く（帰還頂点集合に入れる）頂点数を最小化したい\n",
        "f3=0\n",
        "for v in range(N):\n",
        "  f3+=(1-y_v[v])\n",
        "\n",
        "#ペナルティ係数の設定\n",
        "A,B=map(int,input().split())\n",
        "f=A*(f1+f2)+B*f3\n",
        "\n",
        "\n",
        "#ソルバー実行、最適解の取得\n",
        "result=solve(f,client)\n",
        "objective=result.best.objective\n",
        "values=result.best.values\n",
        "\n",
        "#エネルギー関数を最小にする、頂点の取り除き方\n",
        "print(f\"エネルギー関数の最小値 = {objective}\")\n",
        "y_v_values=y_v.evaluate(values)\n",
        "eliminated=[]\n",
        "for v in range(N):\n",
        "  if y_v_values[v]==0:\n",
        "    eliminated.append(v+1)\n",
        "print(f\"取り除く頂点：{eliminated}\")"
      ]
    }
  ]
}